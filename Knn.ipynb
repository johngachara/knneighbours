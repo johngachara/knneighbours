{
 "cells": [
  {
   "cell_type": "code",
   "execution_count": 2,
   "metadata": {},
   "outputs": [],
   "source": [
    "from sklearn import datasets\n",
    "from sklearn.model_selection import train_test_split\n",
    "from sklearn.metrics import accuracy_score\n",
    "from sklearn.neighbors import KNeighborsClassifier"
   ]
  },
  {
   "cell_type": "code",
   "execution_count": 3,
   "metadata": {},
   "outputs": [
    {
     "name": "stdout",
     "output_type": "stream",
     "text": [
      "<class 'sklearn.utils._bunch.Bunch'>\n",
      "Accuracy score : 93.33333333333333 Percent\n",
      "[2]\n"
     ]
    }
   ],
   "source": [
    "iris = datasets.load_iris()\n",
    "features = iris.data\n",
    "to_predict = iris.target\n",
    "features_train,features_test,to_predict_train,to_predict_test = train_test_split(features,to_predict,test_size=.5)\n",
    "model = KNeighborsClassifier()\n",
    "model.fit(features_train,to_predict_train)\n",
    "predictions = model.predict(features_test)\n",
    "print(\"Accuracy score :\",accuracy_score(to_predict_test,predictions)*100,\"Percent\")\n",
    "sample = [[6.5, 3. , 5.2, 2.]]\n",
    "prediction2=model.predict(sample)\n",
    "print(prediction2)"
   ]
  },
  {
   "cell_type": "code",
   "execution_count": null,
   "metadata": {},
   "outputs": [],
   "source": []
  }
 ],
 "metadata": {
  "kernelspec": {
   "display_name": "Python 3",
   "language": "python",
   "name": "python3"
  },
  "language_info": {
   "codemirror_mode": {
    "name": "ipython",
    "version": 3
   },
   "file_extension": ".py",
   "mimetype": "text/x-python",
   "name": "python",
   "nbconvert_exporter": "python",
   "pygments_lexer": "ipython3",
   "version": "3.12.0"
  }
 },
 "nbformat": 4,
 "nbformat_minor": 2
}
